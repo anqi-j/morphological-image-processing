{
 "cells": [
  {
   "cell_type": "code",
   "execution_count": null,
   "metadata": {},
   "outputs": [],
   "source": [
    "import numpy as np\n",
    "from matplotlib.pyplot import *\n",
    "from skimage import filters, segmentation, measure, morphology, feature\n",
    "import matplotlib.colors as mcolors\n",
    "from scipy import ndimage as ndi"
   ]
  },
  {
   "cell_type": "code",
   "execution_count": null,
   "metadata": {},
   "outputs": [],
   "source": [
    "scan = np.load('../data/12_sample1.npy')\n",
    "s1_scan = filters.gaussian(scan, sigma=3) # smoothing\n",
    "s2_scan = filters.median(s1_scan, footprint=np.ones((3,)*2)) # smoothing\n",
    "\n",
    "fig, axs = subplots(nrows=1, ncols=3, figsize=(15,6))\n",
    "axs[0].imshow(scan, cmap=\"hot\")\n",
    "axs[0].set_axis_off()\n",
    "axs[0].set_aspect('equal')\n",
    "\n",
    "axs[1].imshow(s1_scan, cmap=\"hot\")\n",
    "axs[1].set_axis_off()\n",
    "axs[1].set_aspect('equal')\n",
    "\n",
    "axs[2].imshow(s2_scan, cmap=\"hot\")\n",
    "axs[2].set_axis_off()\n",
    "axs[2].set_aspect('equal')"
   ]
  },
  {
   "cell_type": "code",
   "execution_count": null,
   "metadata": {},
   "outputs": [],
   "source": [
    "binary = scan > filters.threshold_li(s2_scan)\n",
    "s1_binary = morphology.binary_opening(binary, morphology.disk(3))\n",
    "s2_binary = morphology.binary_dilation(s1_binary)\n",
    "\n",
    "fig, axs = subplots(nrows=1, ncols=3, figsize=(15,6))\n",
    "axs[0].imshow(binary, cmap=\"hot\")\n",
    "axs[0].set_axis_off()\n",
    "axs[0].set_aspect('equal')\n",
    "\n",
    "axs[1].imshow(s1_binary, cmap=\"hot\")\n",
    "axs[1].set_axis_off()\n",
    "axs[1].set_aspect('equal')\n",
    "\n",
    "axs[2].imshow(s2_binary, cmap=\"hot\")\n",
    "axs[2].set_axis_off()\n",
    "axs[2].set_aspect('equal')"
   ]
  },
  {
   "cell_type": "code",
   "execution_count": null,
   "metadata": {},
   "outputs": [],
   "source": [
    "fig, axs = subplots(nrows=1, ncols=2, figsize=(10,6))\n",
    "axs[0].imshow(scan, cmap=\"hot\")\n",
    "axs[0].set_axis_off()\n",
    "axs[0].set_aspect('equal')\n",
    "\n",
    "axs[1].imshow(scan * (1-s2_binary), cmap=\"hot\")\n",
    "axs[1].set_axis_off()\n",
    "axs[1].set_aspect('equal')"
   ]
  },
  {
   "cell_type": "code",
   "execution_count": null,
   "metadata": {},
   "outputs": [],
   "source": [
    "rocks = (scan * s2_binary)\n",
    "distance = ndi.distance_transform_edt(rocks)\n",
    "coords = feature.peak_local_max(distance, min_distance=8)\n",
    "mask = np.zeros_like(distance, dtype=bool)\n",
    "mask[tuple(coords.T)] = True\n",
    "markers, _ = ndi.label(mask)\n",
    "labels = segmentation.watershed(-distance, markers, mask=s2_binary)\n",
    "\n",
    "fig, ax = subplots(nrows=1, ncols=1, figsize=(12,4))\n",
    "ax.imshow(rocks, cmap='hot', alpha=0.5)\n",
    "dilated_mask = morphology.binary_dilation(mask, footprint=np.ones((7,)*2))\n",
    "ax.imshow(np.ma.masked_where(dilated_mask == 0, dilated_mask), cmap='hot', alpha=1)"
   ]
  },
  {
   "cell_type": "code",
   "execution_count": null,
   "metadata": {},
   "outputs": [],
   "source": [
    "n_repeats = 2\n",
    "fig, axs = subplots(nrows=1, ncols=n_repeats, figsize=(5*n_repeats,4))\n",
    "for i in range(n_repeats):\n",
    "    cmap = cm.get_cmap('tab10')(np.linspace(0, 1, len(np.unique(labels))))\n",
    "    cmap = np.random.permutation(cmap)\n",
    "    cmap[0,:-1] = 0\n",
    "    cmap = mcolors.ListedColormap(cmap)\n",
    "    axs[i].imshow(labels, cmap=cmap)\n",
    "    axs[i].set_axis_off()\n",
    "    axs[i].set_aspect('equal')"
   ]
  },
  {
   "cell_type": "code",
   "execution_count": null,
   "metadata": {},
   "outputs": [],
   "source": [
    "def intensity_median(regionmask, intensity):\n",
    "    return np.median(intensity[regionmask])\n",
    "\n",
    "def intensity_std(regionmask, intensity):\n",
    "    return np.std(intensity[regionmask])\n",
    "\n",
    "def gradient_max_intensity(regionmask, intensity):\n",
    "    edges = filters.sobel(intensity * regionmask)\n",
    "    idx_max = np.unravel_index(np.argmax(intensity * regionmask), intensity.shape)\n",
    "    return edges[idx_max]\n",
    "\n",
    "def mean_gradient(regionmask, intensity):\n",
    "    edges = filters.sobel(intensity)\n",
    "    return np.mean(edges[regionmask])\n",
    "\n",
    "def std_gradient(regionmask, intensity):\n",
    "    edges = filters.sobel(intensity)\n",
    "    return np.std(edges[regionmask])"
   ]
  },
  {
   "cell_type": "code",
   "execution_count": null,
   "metadata": {},
   "outputs": [],
   "source": [
    "regions = measure.regionprops(labels, scan, extra_properties=(intensity_median, intensity_std, gradient_max_intensity,mean_gradient,std_gradient))"
   ]
  }
 ],
 "metadata": {
  "kernelspec": {
   "display_name": "test",
   "language": "python",
   "name": "python3"
  },
  "language_info": {
   "codemirror_mode": {
    "name": "ipython",
    "version": 3
   },
   "file_extension": ".py",
   "mimetype": "text/x-python",
   "name": "python",
   "nbconvert_exporter": "python",
   "pygments_lexer": "ipython3",
   "version": "3.10.9"
  },
  "orig_nbformat": 4,
  "vscode": {
   "interpreter": {
    "hash": "fa876df1be027e1f88e37a90534be2d3f4222a19a799fcda10ae7d6fe20854c2"
   }
  }
 },
 "nbformat": 4,
 "nbformat_minor": 2
}
