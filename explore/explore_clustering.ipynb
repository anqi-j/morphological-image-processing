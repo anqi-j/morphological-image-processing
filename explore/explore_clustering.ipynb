{
 "cells": [
  {
   "cell_type": "code",
   "execution_count": null,
   "metadata": {},
   "outputs": [],
   "source": [
    "import os\n",
    "import numpy as np\n",
    "import pandas as pd\n",
    "import seaborn as sns\n",
    "from matplotlib.pyplot import *\n",
    "from scipy.stats import zscore\n",
    "from sklearn.decomposition import PCA\n",
    "from sklearn.metrics import silhouette_score, silhouette_samples\n",
    "from sklearn.manifold import TSNE\n",
    "import umap.umap_ as umap\n",
    "\n",
    "random_state = 1000"
   ]
  },
  {
   "cell_type": "code",
   "execution_count": null,
   "metadata": {},
   "outputs": [],
   "source": [
    "df = pd.read_csv('../data/rock_data.csv')\n",
    "df.columns"
   ]
  },
  {
   "cell_type": "code",
   "execution_count": null,
   "metadata": {},
   "outputs": [],
   "source": [
    "# handle missing values\n",
    "if df.isnull().values.any():\n",
    "    df.fillna(df.mean(), inplace=True)\n",
    "    print('Missing values filled with mean.')"
   ]
  },
  {
   "cell_type": "code",
   "execution_count": null,
   "metadata": {},
   "outputs": [],
   "source": [
    "n_clusters = 3\n",
    "c_map = cm.rainbow(np.linspace(0, 1, n_clusters))\n",
    "sns.pairplot(df.iloc[:,2:], hue='Class', hue_order=[12, 58, 34], palette={12: c_map[0], 58: c_map[1], 34: c_map[2]}, plot_kws={'alpha':0.2})"
   ]
  },
  {
   "cell_type": "code",
   "execution_count": null,
   "metadata": {},
   "outputs": [],
   "source": [
    "# drop highly correlated features\n",
    "df.drop(['Area', 'Perimeter','Median Height', 'Mean Height', 'STD Height'], axis=1, inplace=True)\n",
    "df.columns"
   ]
  },
  {
   "cell_type": "code",
   "execution_count": null,
   "metadata": {},
   "outputs": [],
   "source": [
    "# normalize features\n",
    "# df.iloc[:,3:] = df.iloc[:,3:].apply(zscore)"
   ]
  },
  {
   "cell_type": "code",
   "execution_count": null,
   "metadata": {},
   "outputs": [],
   "source": [
    "# detect and remove outliers"
   ]
  },
  {
   "cell_type": "code",
   "execution_count": null,
   "metadata": {},
   "outputs": [],
   "source": [
    "n_clusters = 3\n",
    "X = df.iloc[:,3:].to_numpy(dtype=float)\n",
    "df_clustered = df.iloc[:,3:].copy()\n",
    "\n",
    "def map_class_values(x):\n",
    "    mapping = {12: 0, 58: 1, 34: 2}\n",
    "    return mapping.get(x,None)\n",
    "\n",
    "actual_class = np.vectorize(map_class_values)(df['Class'].values)\n",
    "df_clustered['cluster'] = actual_class\n",
    "kmeans_sil = silhouette_score(X, actual_class)\n",
    "samps_sil = silhouette_samples(X, actual_class)\n",
    "\n",
    "print(f\"For ground-truth clustering, the average silhouette_score = {kmeans_sil}\")\n",
    "\n",
    "fig, axs = subplots(nrows=1, ncols=2, figsize=(15,6))\n",
    "\n",
    "c_map = cm.rainbow(np.linspace(0, 1, n_clusters))\n",
    "\n",
    "y_lower = 10\n",
    "for i in range(n_clusters):\n",
    "    cluster_sil = np.sort(samps_sil[actual_class == i])\n",
    "    y_upper = y_lower + cluster_sil.shape[0]\n",
    "\n",
    "    axs[0].fill_betweenx(np.arange(y_lower, y_upper), 0, cluster_sil, color=c_map[i])\n",
    "\n",
    "    axs[0].set_xlim([-0.2, 1])\n",
    "    axs[0].set_ylim([0, len(X) + (n_clusters + 1) * 10])\n",
    "    axs[0].text(-0.05, y_lower + 0.5 * cluster_sil.shape[0], str(i))\n",
    "\n",
    "    y_lower = y_upper + 10\n",
    "\n",
    "axs[0].set_xlabel(\"Silhouette Score\")\n",
    "axs[0].set_ylabel(\"Cluster Label\")\n",
    "\n",
    "axs[0].axvline(x=kmeans_sil, color=\"red\", linestyle=(3,(5,7)))\n",
    "\n",
    "axs[0].set_yticks([])\n",
    "axs[0].set_xticks([-0.2, 0, 0.2, 0.4, 0.6, 0.8, 1])\n",
    "\n",
    "pd.plotting.parallel_coordinates(df_clustered, 'cluster', ax=axs[1], color=c_map, alpha=0.1)\n",
    "xticks(rotation=90)\n",
    "axs[1].legend().set_visible(False)\n",
    "\n",
    "show()"
   ]
  },
  {
   "cell_type": "code",
   "execution_count": null,
   "metadata": {},
   "outputs": [],
   "source": [
    "pca = PCA(n_components=2)\n",
    "components = pca.fit_transform(X)\n",
    "labels = {\n",
    "    str(i): f\"PC {i+1} ({var:.1f}%)\"\n",
    "    for i, var in enumerate(pca.explained_variance_ratio_ * 100)\n",
    "}\n",
    "\n",
    "fig, axs = subplots(nrows=1, ncols=1, figsize=(6,6))\n",
    "\n",
    "c_map = cm.rainbow(np.linspace(0, 1, n_clusters))\n",
    "axs.scatter(components[:,0], components[:,1], color=df_clustered['cluster'].map(lambda x: c_map[x]))\n",
    "axs.set_xlabel(labels['0'], fontsize=24)\n",
    "axs.set_ylabel(labels['1'], fontsize=24)\n",
    "\n",
    "show()"
   ]
  },
  {
   "cell_type": "code",
   "execution_count": null,
   "metadata": {},
   "outputs": [],
   "source": [
    "sort_idx = np.argsort(-np.abs(pca.components_[0]))\n",
    "for si in sort_idx:\n",
    "    print(f'{df.columns[3+si]}: {pca.components_[0][si]}')"
   ]
  },
  {
   "cell_type": "code",
   "execution_count": null,
   "metadata": {},
   "outputs": [],
   "source": [
    "sort_idx = np.argsort(-np.abs(pca.components_[1]))\n",
    "for si in sort_idx:\n",
    "    print(f'{df.columns[3+si]}: {pca.components_[1][si]}')"
   ]
  },
  {
   "cell_type": "code",
   "execution_count": null,
   "metadata": {},
   "outputs": [],
   "source": [
    "tsne = TSNE(n_components=2)\n",
    "embedding = tsne.fit_transform(X)\n",
    "labels = {\n",
    "    str(i): f\"TSNE {i+1}\" for i in range(2)\n",
    "}\n",
    "\n",
    "fig, axs = subplots(nrows=1, ncols=1, figsize=(6,6))\n",
    "\n",
    "c_map = cm.rainbow(np.linspace(0, 1, n_clusters))\n",
    "axs.scatter(embedding[:,0], embedding[:,1], color=df_clustered['cluster'].map(lambda x: c_map[x]))\n",
    "axs.set_xlabel(labels['0'], fontsize=24)\n",
    "axs.set_ylabel(labels['1'], fontsize=24)\n",
    "\n",
    "show()"
   ]
  },
  {
   "cell_type": "code",
   "execution_count": null,
   "metadata": {},
   "outputs": [],
   "source": [
    "fig, axs = subplots(nrows=1, ncols=1, figsize=(6,6))\n",
    "um = umap.UMAP()\n",
    "embedding = um.fit_transform(X)\n",
    "scatter(embedding[:, 0], embedding[:, 1], c=df_clustered['cluster'])"
   ]
  },
  {
   "cell_type": "code",
   "execution_count": null,
   "metadata": {},
   "outputs": [],
   "source": []
  }
 ],
 "metadata": {
  "kernelspec": {
   "display_name": "test",
   "language": "python",
   "name": "python3"
  },
  "language_info": {
   "codemirror_mode": {
    "name": "ipython",
    "version": 3
   },
   "file_extension": ".py",
   "mimetype": "text/x-python",
   "name": "python",
   "nbconvert_exporter": "python",
   "pygments_lexer": "ipython3",
   "version": "3.10.9"
  },
  "orig_nbformat": 4
 },
 "nbformat": 4,
 "nbformat_minor": 2
}
